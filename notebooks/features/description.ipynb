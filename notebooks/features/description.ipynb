{
 "cells": [
  {
   "cell_type": "code",
   "execution_count": 1,
   "id": "9a50b834",
   "metadata": {},
   "outputs": [
    {
     "name": "stderr",
     "output_type": "stream",
     "text": [
      "/Users/bondarchukgleb/anaconda3/lib/python3.9/site-packages/pandas/core/arrays/masked.py:60: UserWarning: Pandas requires version '1.3.6' or newer of 'bottleneck' (version '1.3.5' currently installed).\n",
      "  from pandas.core import (\n"
     ]
    }
   ],
   "source": [
    "import pandas as pd\n",
    "import numpy as np\n",
    "from tqdm import tqdm\n",
    "import matplotlib.pyplot as plt\n",
    "import seaborn as sns\n",
    "from copy import deepcopy\n",
    "from collections import Counter\n",
    "import pickle\n",
    "from sklearn.metrics import pairwise_distances"
   ]
  },
  {
   "cell_type": "code",
   "execution_count": 2,
   "id": "0c801cb6",
   "metadata": {},
   "outputs": [],
   "source": [
    "from full_contract_clf import predict_for_full_contract\n",
    "from single_sample_clf import predict_for_single_sample"
   ]
  },
  {
   "cell_type": "code",
   "execution_count": 3,
   "id": "54e2137e",
   "metadata": {},
   "outputs": [],
   "source": [
    "X_train = pd.read_csv(\"data_final/train_X.csv\")\n",
    "y_train = pd.read_csv(\"data_final/train_y.csv\")\n",
    "\n",
    "train = X_train.merge(y_train, on=[\"contract_id\", \"report_date\"], how=\"left\")\n",
    "test = pd.read_csv(\"data_final/test2_X.csv\")"
   ]
  },
  {
   "cell_type": "code",
   "execution_count": 4,
   "id": "9b4228bd",
   "metadata": {},
   "outputs": [],
   "source": [
    "feature_names = pd.read_csv(\"utils/features_named.csv\", index_col=0)\n",
    "declensions = pd.read_csv(\"utils/name_reformer.csv\", index_col=0)"
   ]
  },
  {
   "cell_type": "code",
   "execution_count": 5,
   "id": "f2750abb",
   "metadata": {},
   "outputs": [],
   "source": [
    "def int_to_declesion(n):\n",
    "    n = abs(n) % 100\n",
    "    n1 = n % 10\n",
    "\n",
    "    if 11 <= n <= 19:\n",
    "            return {\"недел\": \"недель\", \"месяц\": \"месяцев\"}  # родительный падеж, множественное число\n",
    "    if 2 <= n1 <= 4:\n",
    "        return {\"недел\": \"недели\", \"месяц\": \"месяца\"}  # родительный падеж, единственное число\n",
    "    if n1 == 1:\n",
    "        return {\"недел\": \"недели\", \"месяц\": \"месяца\"}\n",
    "    return {\"недел\": \"недель\", \"месяц\": \"месяцев\"}"
   ]
  },
  {
   "cell_type": "code",
   "execution_count": 6,
   "id": "86ae26df",
   "metadata": {},
   "outputs": [],
   "source": [
    "def running_mean(x, N):\n",
    "    cumsum = np.cumsum(np.insert(x, 0, 0))\n",
    "    return (cumsum[N:] - cumsum[:-N]) / float(N)"
   ]
  },
  {
   "cell_type": "code",
   "execution_count": 7,
   "id": "60372017",
   "metadata": {},
   "outputs": [],
   "source": [
    "def fill_f(feature, n, f_type):\n",
    "    if f_type == \"per_week\":\n",
    "        feature = feature.replace(\"недел{m}\", int_to_declesion(n)[\"недел\"]).replace(\"{n}\", \"последние \" + str(n))\n",
    "    elif f_type == \"per_month\":\n",
    "        feature = feature.replace(\"месяц\", int_to_declesion(n)[\"месяц\"]).replace(\"{n}\", str(n) + f\" {int_to_declesion(n)['недел']} этого месяца\")\n",
    "    return feature"
   ]
  },
  {
   "cell_type": "code",
   "execution_count": 8,
   "id": "bf1ae11f",
   "metadata": {},
   "outputs": [
    {
     "name": "stderr",
     "output_type": "stream",
     "text": [
      "100%|█████████████████████████████████████| 3448/3448 [00:01<00:00, 2921.45it/s]\n"
     ]
    }
   ],
   "source": [
    "single_sample_preds = predict_for_single_sample(train)"
   ]
  },
  {
   "cell_type": "code",
   "execution_count": 9,
   "id": "0f5968d4",
   "metadata": {},
   "outputs": [],
   "source": [
    "corr = single_sample_preds.drop([\"contract_id\", \"report_date\", \"sample_num\"], axis=1).corr()"
   ]
  },
  {
   "cell_type": "code",
   "execution_count": 10,
   "id": "9812dbe6",
   "metadata": {},
   "outputs": [],
   "source": [
    "objective_features = corr[\"predicts\"].iloc[1:][corr[\"predicts\"].iloc[1:] > 0.1]"
   ]
  },
  {
   "cell_type": "code",
   "execution_count": null,
   "id": "4af9b024",
   "metadata": {},
   "outputs": [],
   "source": []
  },
  {
   "cell_type": "code",
   "execution_count": 11,
   "id": "df323cba",
   "metadata": {},
   "outputs": [],
   "source": [
    "selected_features = []\n",
    "\n",
    "for cont_id in single_sample_preds[\"contract_id\"].unique():\n",
    "    tmp = single_sample_preds[single_sample_preds[\"contract_id\"] == cont_id]\n",
    "    feature_shaps = tmp[list(objective_features.keys())]\n",
    "    \n",
    "    for i in range(len(tmp)):\n",
    "        sample = tmp.iloc[i]\n",
    "        sample_shaps = feature_shaps.iloc[-1]\n",
    "        target_features = np.argpartition(sample_shaps, -3)[-3:]\n",
    "\n",
    "        features = np.array(list(dict(sample_shaps).items()))[target_features]\n",
    "        features = [[x[0], float(x[1])] for x in features if float(x[1]) > 0.1]\n",
    "        selected_features.append([x[0] for x in features])"
   ]
  },
  {
   "cell_type": "code",
   "execution_count": 12,
   "id": "d12820e9",
   "metadata": {},
   "outputs": [],
   "source": [
    "single_sample_preds[\"target_features\"] = selected_features"
   ]
  },
  {
   "cell_type": "code",
   "execution_count": 13,
   "id": "6c7a4911",
   "metadata": {},
   "outputs": [],
   "source": [
    "tmp = pickle.load(open(\"tmp.pickle\", \"rb\"))"
   ]
  },
  {
   "cell_type": "code",
   "execution_count": 14,
   "id": "87371d4c",
   "metadata": {},
   "outputs": [],
   "source": [
    "tmp[0][\"index\"] = tmp[0][\"contract_id\"].map(lambda x: x.split(\"_\")[1])\n",
    "tmp[0][\"contract_id\"] = tmp[0][\"contract_id\"].map(lambda x: x.split(\"_\")[0])"
   ]
  },
  {
   "cell_type": "code",
   "execution_count": 15,
   "id": "d9a7aa2c",
   "metadata": {},
   "outputs": [],
   "source": [
    "contract_slices = pd.concat([tmp[1], tmp[0][[\"predicts\", \"index\", \"contract_id\"]]], axis=1)\n",
    "contract_slices[\"contract_id\"] = contract_slices[\"contract_id\"].astype(int)\n",
    "contract_slices[\"index\"] = contract_slices[\"index\"].astype(int)"
   ]
  },
  {
   "cell_type": "code",
   "execution_count": 16,
   "id": "ae5f5612",
   "metadata": {},
   "outputs": [],
   "source": [
    "contract_slices_high = contract_slices[contract_slices[\"predicts\"] > 0.65]"
   ]
  },
  {
   "cell_type": "code",
   "execution_count": 17,
   "id": "2d54da4b",
   "metadata": {},
   "outputs": [],
   "source": [
    "contractors_confidence = pd.read_csv(\"utils/contractor_indexes_fixed.csv\")"
   ]
  },
  {
   "cell_type": "code",
   "execution_count": 18,
   "id": "8a3ffc15",
   "metadata": {},
   "outputs": [],
   "source": [
    "spec_data_index = pickle.load(open(\"utils/spec_data_fixed.pickle\", \"rb\"))"
   ]
  },
  {
   "cell_type": "code",
   "execution_count": null,
   "id": "8d7acd4b",
   "metadata": {},
   "outputs": [],
   "source": []
  },
  {
   "cell_type": "code",
   "execution_count": null,
   "id": "6881df61",
   "metadata": {},
   "outputs": [],
   "source": []
  },
  {
   "cell_type": "code",
   "execution_count": null,
   "id": "ed60e504",
   "metadata": {},
   "outputs": [],
   "source": []
  },
  {
   "cell_type": "code",
   "execution_count": 19,
   "id": "97904e1c",
   "metadata": {},
   "outputs": [
    {
     "name": "stderr",
     "output_type": "stream",
     "text": [
      "100%|█████████████████████████████████████| 2281/2281 [00:00<00:00, 3009.55it/s]\n"
     ]
    }
   ],
   "source": [
    "single_sample_preds_test = predict_for_single_sample(test)"
   ]
  },
  {
   "cell_type": "code",
   "execution_count": 21,
   "id": "45d59965",
   "metadata": {},
   "outputs": [],
   "source": [
    "selected_features = []\n",
    "\n",
    "for cont_id in single_sample_preds_test[\"contract_id\"].unique():\n",
    "    tmp = single_sample_preds_test[single_sample_preds_test[\"contract_id\"] == cont_id]\n",
    "    feature_shaps = tmp[list(objective_features.keys())]\n",
    "    \n",
    "    for i in range(len(tmp)):\n",
    "        sample = tmp.iloc[i]\n",
    "        sample_shaps = feature_shaps.iloc[-1]\n",
    "        target_features = np.argpartition(sample_shaps, -3)[-3:]\n",
    "\n",
    "        features = np.array(list(dict(sample_shaps).items()))[target_features]\n",
    "        features = [[x[0], float(x[1])] for x in features if float(x[1]) > 0.1]\n",
    "        selected_features.append([x[0] for x in features])"
   ]
  },
  {
   "cell_type": "code",
   "execution_count": 22,
   "id": "3dc81255",
   "metadata": {},
   "outputs": [],
   "source": [
    "single_sample_preds_test[\"target_features\"] = selected_features"
   ]
  },
  {
   "cell_type": "code",
   "execution_count": 55,
   "id": "7cde46da",
   "metadata": {},
   "outputs": [],
   "source": [
    "contracts = []\n",
    "idxes = []\n",
    "for cont_id in test[\"contract_id\"].unique():\n",
    "    sl = test[test[\"contract_id\"] == cont_id]\n",
    "    for i in range(len(sl)):\n",
    "        sl1 = sl.iloc[:i+1]\n",
    "        sl1[\"contract_id\"] = sl1[\"contract_id\"].map(str) + f\"_{i}\"\n",
    "        idxes.append(i)\n",
    "        contracts.append(sl1)"
   ]
  },
  {
   "cell_type": "code",
   "execution_count": 56,
   "id": "5ffbe257",
   "metadata": {},
   "outputs": [],
   "source": [
    "contracts = pd.concat(contracts, axis=0)"
   ]
  },
  {
   "cell_type": "code",
   "execution_count": 57,
   "id": "9c32f70e",
   "metadata": {},
   "outputs": [
    {
     "name": "stderr",
     "output_type": "stream",
     "text": [
      "100%|█████████████████████████████████████| 13216/13216 [05:36<00:00, 39.33it/s]\n",
      "Feature Extraction:   0%|                                | 0/40 [00:00<?, ?it/s]/Users/bondarchukgleb/anaconda3/lib/python3.9/site-packages/pandas/core/arrays/masked.py:60: UserWarning: Pandas requires version '1.3.6' or newer of 'bottleneck' (version '1.3.5' currently installed).\n",
      "  from pandas.core import (\n",
      "/Users/bondarchukgleb/anaconda3/lib/python3.9/site-packages/pandas/core/arrays/masked.py:60: UserWarning: Pandas requires version '1.3.6' or newer of 'bottleneck' (version '1.3.5' currently installed).\n",
      "  from pandas.core import (\n",
      "/Users/bondarchukgleb/anaconda3/lib/python3.9/site-packages/pandas/core/arrays/masked.py:60: UserWarning: Pandas requires version '1.3.6' or newer of 'bottleneck' (version '1.3.5' currently installed).\n",
      "  from pandas.core import (\n",
      "/Users/bondarchukgleb/anaconda3/lib/python3.9/site-packages/pandas/core/arrays/masked.py:60: UserWarning: Pandas requires version '1.3.6' or newer of 'bottleneck' (version '1.3.5' currently installed).\n",
      "  from pandas.core import (\n",
      "/Users/bondarchukgleb/anaconda3/lib/python3.9/site-packages/pandas/core/arrays/masked.py:60: UserWarning: Pandas requires version '1.3.6' or newer of 'bottleneck' (version '1.3.5' currently installed).\n",
      "  from pandas.core import (\n",
      "/Users/bondarchukgleb/anaconda3/lib/python3.9/site-packages/pandas/core/arrays/masked.py:60: UserWarning: Pandas requires version '1.3.6' or newer of 'bottleneck' (version '1.3.5' currently installed).\n",
      "  from pandas.core import (\n",
      "/Users/bondarchukgleb/anaconda3/lib/python3.9/site-packages/pandas/core/arrays/masked.py:60: UserWarning: Pandas requires version '1.3.6' or newer of 'bottleneck' (version '1.3.5' currently installed).\n",
      "  from pandas.core import (\n",
      "/Users/bondarchukgleb/anaconda3/lib/python3.9/site-packages/pandas/core/arrays/masked.py:60: UserWarning: Pandas requires version '1.3.6' or newer of 'bottleneck' (version '1.3.5' currently installed).\n",
      "  from pandas.core import (\n",
      "Feature Extraction: 100%|███████████████████████| 40/40 [04:12<00:00,  6.31s/it]\n"
     ]
    }
   ],
   "source": [
    "tmp = predict_for_full_contract(contracts)"
   ]
  },
  {
   "cell_type": "code",
   "execution_count": 58,
   "id": "4460325c",
   "metadata": {},
   "outputs": [],
   "source": [
    "tmp[0][\"index\"] = tmp[0][\"contract_id\"].map(lambda x: x.split(\"_\")[1])\n",
    "tmp[0][\"contract_id\"] = tmp[0][\"contract_id\"].map(lambda x: x.split(\"_\")[0])"
   ]
  },
  {
   "cell_type": "code",
   "execution_count": 62,
   "id": "42a294ab",
   "metadata": {},
   "outputs": [],
   "source": [
    "contract_slices_test = pd.concat([tmp[1], tmp[0][[\"predicts\", \"index\", \"contract_id\"]]], axis=1)\n",
    "contract_slices_test[\"contract_id\"] = contract_slices_test[\"contract_id\"].astype(int)\n",
    "contract_slices_test[\"index\"] = contract_slices_test[\"index\"].astype(int)"
   ]
  },
  {
   "cell_type": "code",
   "execution_count": 63,
   "id": "b16e7959",
   "metadata": {},
   "outputs": [],
   "source": [
    "contract_slices_test_high = contract_slices_test[contract_slices_test[\"predicts\"] > 0.65]"
   ]
  },
  {
   "cell_type": "code",
   "execution_count": null,
   "id": "6f7a5fc3",
   "metadata": {},
   "outputs": [],
   "source": []
  },
  {
   "cell_type": "code",
   "execution_count": 65,
   "id": "f4327084",
   "metadata": {},
   "outputs": [],
   "source": [
    "contract_slices_high = pd.concat([contract_slices_test_high, contract_slices_high], axis=0)"
   ]
  },
  {
   "cell_type": "code",
   "execution_count": null,
   "id": "7a5d75c7",
   "metadata": {},
   "outputs": [],
   "source": []
  },
  {
   "cell_type": "code",
   "execution_count": 64,
   "id": "ba3361db",
   "metadata": {},
   "outputs": [],
   "source": [
    "poyasnitelnay_brigada = {\"number_peaks\": \"Аномальные скачки в изменении этого параметра в этом промежутке встречаются в похожих контрактах, которые сорвались в дальнейшем\",\n",
    "                         \"root_mean_square\": \"Разброс этого параметра в этом промежутке повышает вероятность срыва контракта\",\n",
    "                         \"mean\": \"Среднее значение этого параметра в этом промежутке повышает вероятность срыва контракта\",\n",
    "                         \"linear_trend_attr_intercept\": \"Контракты с похожим линейным трендом изменения этого параметра имеют высокую вероятность срыва\",\n",
    "                         \"разница между\": \"Разница между этим значением параметра на данный момент и в начале контракта часто встречается в похожих контрактах, которые сорвались в будущем\",\n",
    "                         'sum_values': \"Сумма этих значений на протяжении всего параметра может привести к повышению вероятности срыва контракта в будущем\",\n",
    "                         \"variance\": \"Разброс значений этого параметра за последнее время может повысить вероятность срыва контракта\",\n",
    "                         \"absolute_maximum\": \"Максимальное абсолютное значение этого параметра встречается в похожих контрактах, которые сорвались в будущем\",\n",
    "                         \"меньше\": \"Значение этого параметра меньше, чем в большинстве других контрактов. Такой тренд встречается у похожих сорвавшихся контрактов.\",\n",
    "                         \"встречается в диапазоне\": \"Значения этого параметра в диапазоне значений, характерным для часто срывающихся контрактов\",\n",
    "                         \"linear_trend\": \"Тренд изменения этого параметра характерен для похожих контрактов, которые сорвались в будущем\",\n",
    "                         \"maximum\": \"Максимальное значения этого параметра на данном промежутке повышает шанс срыва контракта\",\n",
    "                         \"standard_deviation\": \"Отклонение этого параметра на данном промежутке, характерное для часто срывающихся контрактов\",\n",
    "                         \"length\": \"Этот параметр с такими значениями увеличивает шанс срыва на длительных контрактах\",\n",
    "                         \"median\": \"Такое Медианное значение этого параметра, как на этом промежутке, часто увеличивает вероятность срыва в похожих контрактах.\",\n",
    "                         \"в начале контракта\": \"Такое значение этого контракта повышает риск срыва в контрактах, с похожим начальным значением этого параметра\"}"
   ]
  },
  {
   "cell_type": "code",
   "execution_count": null,
   "id": "6c835ecf",
   "metadata": {},
   "outputs": [],
   "source": []
  },
  {
   "cell_type": "code",
   "execution_count": null,
   "id": "44eea617",
   "metadata": {},
   "outputs": [],
   "source": []
  },
  {
   "cell_type": "code",
   "execution_count": 91,
   "id": "62a97471",
   "metadata": {},
   "outputs": [
    {
     "name": "stderr",
     "output_type": "stream",
     "text": [
      "\r\n",
      "  0%|                                                  | 0/2281 [00:00<?, ?it/s]"
     ]
    },
    {
     "name": "stdout",
     "output_type": "stream",
     "text": [
      "1\n"
     ]
    },
    {
     "name": "stderr",
     "output_type": "stream",
     "text": [
      "\r\n",
      "  0%|                                          | 1/2281 [00:00<12:25,  3.06it/s]"
     ]
    },
    {
     "name": "stdout",
     "output_type": "stream",
     "text": [
      "1\n"
     ]
    },
    {
     "name": "stderr",
     "output_type": "stream",
     "text": [
      "\r\n",
      "  0%|                                          | 2/2281 [00:00<11:58,  3.17it/s]"
     ]
    },
    {
     "name": "stdout",
     "output_type": "stream",
     "text": [
      "1\n",
      "1\n"
     ]
    },
    {
     "name": "stderr",
     "output_type": "stream",
     "text": [
      "\r\n",
      "  0%|                                          | 3/2281 [00:00<11:04,  3.43it/s]"
     ]
    },
    {
     "name": "stdout",
     "output_type": "stream",
     "text": [
      "1\n",
      "1\n"
     ]
    },
    {
     "name": "stderr",
     "output_type": "stream",
     "text": [
      "  1%|▍                                        | 21/2281 [00:01<02:20, 16.10it/s]"
     ]
    },
    {
     "name": "stdout",
     "output_type": "stream",
     "text": [
      "1\n",
      "1\n",
      "1\n",
      "1\n",
      "1\n"
     ]
    },
    {
     "name": "stderr",
     "output_type": "stream",
     "text": [
      "  1%|▌                                        | 31/2281 [00:02<01:22, 27.20it/s]"
     ]
    },
    {
     "name": "stdout",
     "output_type": "stream",
     "text": [
      "1\n",
      "1\n",
      "1\n",
      "1\n",
      "1\n",
      "1\n",
      "1\n"
     ]
    },
    {
     "name": "stderr",
     "output_type": "stream",
     "text": [
      "\r\n",
      "  2%|▋                                        | 36/2281 [00:02<01:15, 29.86it/s]"
     ]
    },
    {
     "name": "stdout",
     "output_type": "stream",
     "text": [
      "1\n"
     ]
    },
    {
     "name": "stderr",
     "output_type": "stream",
     "text": [
      "\r\n",
      "  2%|▋                                        | 40/2281 [00:02<02:06, 17.75it/s]"
     ]
    },
    {
     "name": "stdout",
     "output_type": "stream",
     "text": [
      "1\n",
      "1\n",
      "1\n"
     ]
    },
    {
     "name": "stderr",
     "output_type": "stream",
     "text": [
      "\r\n",
      "  2%|▊                                        | 44/2281 [00:02<02:04, 18.03it/s]"
     ]
    },
    {
     "name": "stdout",
     "output_type": "stream",
     "text": [
      "1\n"
     ]
    },
    {
     "name": "stderr",
     "output_type": "stream",
     "text": [
      "  3%|█                                        | 58/2281 [00:03<01:11, 31.23it/s]"
     ]
    },
    {
     "name": "stdout",
     "output_type": "stream",
     "text": [
      "1\n",
      "1\n"
     ]
    },
    {
     "name": "stderr",
     "output_type": "stream",
     "text": [
      "  3%|█▎                                       | 71/2281 [00:03<00:50, 44.09it/s]"
     ]
    },
    {
     "name": "stdout",
     "output_type": "stream",
     "text": [
      "1\n",
      "1\n",
      "1\n",
      "1\n"
     ]
    },
    {
     "name": "stderr",
     "output_type": "stream",
     "text": [
      "\r\n",
      "  3%|█▍                                       | 77/2281 [00:04<02:16, 16.19it/s]"
     ]
    },
    {
     "name": "stdout",
     "output_type": "stream",
     "text": [
      "1\n",
      "1\n",
      "1\n",
      "1\n",
      "1\n",
      "1\n"
     ]
    },
    {
     "name": "stderr",
     "output_type": "stream",
     "text": [
      "\r\n",
      "  4%|█▍                                       | 81/2281 [00:04<02:13, 16.49it/s]"
     ]
    },
    {
     "name": "stdout",
     "output_type": "stream",
     "text": [
      "1\n",
      "1\n"
     ]
    },
    {
     "name": "stderr",
     "output_type": "stream",
     "text": [
      "  4%|█▋                                       | 94/2281 [00:05<02:07, 17.14it/s]"
     ]
    },
    {
     "name": "stdout",
     "output_type": "stream",
     "text": [
      "1\n",
      "1\n"
     ]
    },
    {
     "name": "stderr",
     "output_type": "stream",
     "text": [
      "\r\n",
      "  4%|█▊                                      | 102/2281 [00:05<01:45, 20.66it/s]"
     ]
    },
    {
     "name": "stdout",
     "output_type": "stream",
     "text": [
      "1\n",
      "1\n"
     ]
    },
    {
     "name": "stderr",
     "output_type": "stream",
     "text": [
      "  5%|██                                      | 116/2281 [00:06<01:42, 21.04it/s]"
     ]
    },
    {
     "name": "stdout",
     "output_type": "stream",
     "text": [
      "1\n"
     ]
    },
    {
     "name": "stderr",
     "output_type": "stream",
     "text": [
      "  6%|██▎                                     | 134/2281 [00:06<01:04, 33.13it/s]"
     ]
    },
    {
     "name": "stdout",
     "output_type": "stream",
     "text": [
      "1\n"
     ]
    },
    {
     "name": "stderr",
     "output_type": "stream",
     "text": [
      "\r\n",
      "  6%|██▍                                     | 139/2281 [00:06<01:15, 28.35it/s]"
     ]
    },
    {
     "name": "stdout",
     "output_type": "stream",
     "text": [
      "1\n"
     ]
    },
    {
     "name": "stderr",
     "output_type": "stream",
     "text": [
      "\r\n",
      "  6%|██▌                                     | 143/2281 [00:07<01:35, 22.42it/s]"
     ]
    },
    {
     "name": "stdout",
     "output_type": "stream",
     "text": [
      "1\n"
     ]
    },
    {
     "name": "stderr",
     "output_type": "stream",
     "text": [
      "  7%|██▊                                     | 161/2281 [00:07<01:09, 30.57it/s]"
     ]
    },
    {
     "name": "stdout",
     "output_type": "stream",
     "text": [
      "1\n",
      "1\n"
     ]
    },
    {
     "name": "stderr",
     "output_type": "stream",
     "text": [
      "  8%|███                                     | 178/2281 [00:08<00:46, 45.50it/s]"
     ]
    },
    {
     "name": "stdout",
     "output_type": "stream",
     "text": [
      "1\n",
      "1\n"
     ]
    },
    {
     "name": "stderr",
     "output_type": "stream",
     "text": [
      "  8%|███▎                                    | 189/2281 [00:08<01:00, 34.77it/s]"
     ]
    },
    {
     "name": "stdout",
     "output_type": "stream",
     "text": [
      "1\n"
     ]
    },
    {
     "name": "stderr",
     "output_type": "stream",
     "text": [
      "  9%|███▋                                    | 209/2281 [00:09<00:51, 39.93it/s]"
     ]
    },
    {
     "name": "stdout",
     "output_type": "stream",
     "text": [
      "1\n",
      "1\n",
      "1\n"
     ]
    },
    {
     "name": "stderr",
     "output_type": "stream",
     "text": [
      "\r\n",
      "  9%|███▊                                    | 214/2281 [00:09<02:03, 16.79it/s]"
     ]
    },
    {
     "name": "stdout",
     "output_type": "stream",
     "text": [
      "1\n",
      "1\n"
     ]
    },
    {
     "name": "stderr",
     "output_type": "stream",
     "text": [
      " 11%|████▎                                   | 245/2281 [00:10<00:54, 37.20it/s]"
     ]
    },
    {
     "name": "stdout",
     "output_type": "stream",
     "text": [
      "1\n",
      "1\n",
      "1\n"
     ]
    },
    {
     "name": "stderr",
     "output_type": "stream",
     "text": [
      " 12%|████▋                                   | 264/2281 [00:11<00:51, 39.11it/s]"
     ]
    },
    {
     "name": "stdout",
     "output_type": "stream",
     "text": [
      "1\n",
      "1\n",
      "1\n",
      "1\n"
     ]
    },
    {
     "name": "stderr",
     "output_type": "stream",
     "text": [
      " 12%|████▉                                   | 285/2281 [00:11<00:42, 47.44it/s]"
     ]
    },
    {
     "name": "stdout",
     "output_type": "stream",
     "text": [
      "1\n",
      "1\n",
      "1\n"
     ]
    },
    {
     "name": "stderr",
     "output_type": "stream",
     "text": [
      "\r\n",
      " 13%|█████                                   | 292/2281 [00:11<00:51, 38.56it/s]"
     ]
    },
    {
     "name": "stdout",
     "output_type": "stream",
     "text": [
      "1\n"
     ]
    },
    {
     "name": "stderr",
     "output_type": "stream",
     "text": [
      " 13%|█████▎                                  | 303/2281 [00:12<00:57, 34.59it/s]"
     ]
    },
    {
     "name": "stdout",
     "output_type": "stream",
     "text": [
      "1\n",
      "1\n",
      "1\n"
     ]
    },
    {
     "name": "stderr",
     "output_type": "stream",
     "text": [
      "\r\n",
      " 14%|█████▌                                  | 315/2281 [00:12<00:44, 43.75it/s]"
     ]
    },
    {
     "name": "stdout",
     "output_type": "stream",
     "text": [
      "1\n",
      "1\n",
      "1\n"
     ]
    },
    {
     "name": "stderr",
     "output_type": "stream",
     "text": [
      "\r\n",
      " 14%|█████▋                                  | 321/2281 [00:12<01:10, 27.81it/s]"
     ]
    },
    {
     "name": "stdout",
     "output_type": "stream",
     "text": [
      "1\n",
      "1\n"
     ]
    },
    {
     "name": "stderr",
     "output_type": "stream",
     "text": [
      " 14%|█████▊                                  | 330/2281 [00:13<01:06, 29.20it/s]"
     ]
    },
    {
     "name": "stdout",
     "output_type": "stream",
     "text": [
      "1\n",
      "1\n"
     ]
    },
    {
     "name": "stderr",
     "output_type": "stream",
     "text": [
      " 15%|█████▉                                  | 340/2281 [00:13<01:35, 20.24it/s]"
     ]
    },
    {
     "name": "stdout",
     "output_type": "stream",
     "text": [
      "1\n",
      "1\n",
      "1\n",
      "1\n",
      "1\n",
      "1\n"
     ]
    },
    {
     "name": "stderr",
     "output_type": "stream",
     "text": [
      " 16%|██████▏                                 | 354/2281 [00:14<01:13, 26.21it/s]"
     ]
    },
    {
     "name": "stdout",
     "output_type": "stream",
     "text": [
      "1\n"
     ]
    },
    {
     "name": "stderr",
     "output_type": "stream",
     "text": [
      " 16%|██████▌                                 | 372/2281 [00:15<01:31, 20.94it/s]"
     ]
    },
    {
     "name": "stdout",
     "output_type": "stream",
     "text": [
      "1\n",
      "1\n",
      "1\n",
      "1\n",
      "1\n"
     ]
    },
    {
     "name": "stderr",
     "output_type": "stream",
     "text": [
      "\r\n",
      " 16%|██████▌                                 | 376/2281 [00:15<01:35, 19.95it/s]"
     ]
    },
    {
     "name": "stdout",
     "output_type": "stream",
     "text": [
      "1\n"
     ]
    },
    {
     "name": "stderr",
     "output_type": "stream",
     "text": [
      "\r\n",
      " 17%|██████▋                                 | 380/2281 [00:16<01:49, 17.43it/s]"
     ]
    },
    {
     "name": "stdout",
     "output_type": "stream",
     "text": [
      "1\n",
      "1\n",
      "1\n",
      "1\n",
      "1\n"
     ]
    },
    {
     "name": "stderr",
     "output_type": "stream",
     "text": [
      " 17%|██████▉                                 | 394/2281 [00:16<01:05, 28.65it/s]"
     ]
    },
    {
     "name": "stdout",
     "output_type": "stream",
     "text": [
      "1\n"
     ]
    },
    {
     "name": "stderr",
     "output_type": "stream",
     "text": [
      " 18%|███████▍                                | 421/2281 [00:17<01:13, 25.39it/s]"
     ]
    },
    {
     "name": "stdout",
     "output_type": "stream",
     "text": [
      "1\n",
      "1\n",
      "1\n"
     ]
    },
    {
     "name": "stderr",
     "output_type": "stream",
     "text": [
      " 19%|███████▋                                | 441/2281 [00:18<00:41, 44.33it/s]"
     ]
    },
    {
     "name": "stdout",
     "output_type": "stream",
     "text": [
      "1\n"
     ]
    },
    {
     "name": "stderr",
     "output_type": "stream",
     "text": [
      " 20%|███████▉                                | 453/2281 [00:18<00:46, 38.97it/s]"
     ]
    },
    {
     "name": "stdout",
     "output_type": "stream",
     "text": [
      "1\n",
      "1\n",
      "1\n",
      "1\n"
     ]
    },
    {
     "name": "stderr",
     "output_type": "stream",
     "text": [
      "\r\n",
      " 20%|████████                                | 458/2281 [00:18<00:55, 32.73it/s]"
     ]
    },
    {
     "name": "stdout",
     "output_type": "stream",
     "text": [
      "1\n",
      "1\n",
      "1\n",
      "1\n",
      "1\n"
     ]
    },
    {
     "name": "stderr",
     "output_type": "stream",
     "text": [
      "\r\n",
      " 20%|████████▏                               | 464/2281 [00:18<01:02, 28.93it/s]"
     ]
    },
    {
     "name": "stdout",
     "output_type": "stream",
     "text": [
      "1\n",
      "1\n"
     ]
    },
    {
     "name": "stderr",
     "output_type": "stream",
     "text": [
      "\r\n",
      " 21%|████████▏                               | 469/2281 [00:19<01:04, 28.16it/s]"
     ]
    },
    {
     "name": "stdout",
     "output_type": "stream",
     "text": [
      "1\n",
      "1\n",
      "1\n",
      "1\n",
      "1\n",
      "1\n",
      "1\n",
      "1\n",
      "1\n"
     ]
    },
    {
     "name": "stderr",
     "output_type": "stream",
     "text": [
      " 21%|████████▍                               | 482/2281 [00:19<01:03, 28.43it/s]"
     ]
    },
    {
     "name": "stdout",
     "output_type": "stream",
     "text": [
      "1\n",
      "1\n",
      "1\n"
     ]
    },
    {
     "name": "stderr",
     "output_type": "stream",
     "text": [
      " 22%|████████▋                               | 493/2281 [00:20<01:07, 26.62it/s]"
     ]
    },
    {
     "name": "stdout",
     "output_type": "stream",
     "text": [
      "1\n",
      "1\n"
     ]
    },
    {
     "name": "stderr",
     "output_type": "stream",
     "text": [
      " 23%|█████████                               | 520/2281 [00:20<00:38, 45.45it/s]"
     ]
    },
    {
     "name": "stdout",
     "output_type": "stream",
     "text": [
      "1\n"
     ]
    },
    {
     "name": "stderr",
     "output_type": "stream",
     "text": [
      "\r\n",
      " 23%|█████████▏                              | 526/2281 [00:20<00:48, 36.30it/s]"
     ]
    },
    {
     "name": "stdout",
     "output_type": "stream",
     "text": [
      "1\n",
      "1\n",
      "1\n"
     ]
    },
    {
     "name": "stderr",
     "output_type": "stream",
     "text": [
      " 24%|█████████▌                              | 543/2281 [00:21<00:50, 34.64it/s]"
     ]
    },
    {
     "name": "stdout",
     "output_type": "stream",
     "text": [
      "1\n",
      "1\n",
      "1\n",
      "1\n",
      "1\n",
      "1\n",
      "1\n",
      "1\n",
      "1\n"
     ]
    },
    {
     "name": "stderr",
     "output_type": "stream",
     "text": [
      " 24%|█████████▊                              | 556/2281 [00:22<01:20, 21.37it/s]"
     ]
    },
    {
     "name": "stdout",
     "output_type": "stream",
     "text": [
      "1\n"
     ]
    },
    {
     "name": "stderr",
     "output_type": "stream",
     "text": [
      " 25%|██████████                              | 575/2281 [00:22<00:56, 30.30it/s]"
     ]
    },
    {
     "name": "stdout",
     "output_type": "stream",
     "text": [
      "1\n",
      "1\n",
      "1\n",
      "1\n"
     ]
    },
    {
     "name": "stderr",
     "output_type": "stream",
     "text": [
      " 26%|██████████▍                             | 595/2281 [00:23<00:42, 39.51it/s]"
     ]
    },
    {
     "name": "stdout",
     "output_type": "stream",
     "text": [
      "1\n"
     ]
    },
    {
     "name": "stderr",
     "output_type": "stream",
     "text": [
      " 27%|██████████▊                             | 614/2281 [00:23<00:34, 48.31it/s]"
     ]
    },
    {
     "name": "stdout",
     "output_type": "stream",
     "text": [
      "1\n",
      "1\n"
     ]
    },
    {
     "name": "stderr",
     "output_type": "stream",
     "text": [
      " 28%|███████████▍                            | 650/2281 [00:24<00:23, 70.13it/s]"
     ]
    },
    {
     "name": "stdout",
     "output_type": "stream",
     "text": [
      "1\n",
      "1\n"
     ]
    },
    {
     "name": "stderr",
     "output_type": "stream",
     "text": [
      " 29%|███████████▋                            | 667/2281 [00:24<00:27, 59.48it/s]"
     ]
    },
    {
     "name": "stdout",
     "output_type": "stream",
     "text": [
      "1\n",
      "1\n",
      "1\n",
      "1\n",
      "1\n"
     ]
    },
    {
     "name": "stderr",
     "output_type": "stream",
     "text": [
      " 30%|███████████▉                            | 681/2281 [00:25<00:39, 40.50it/s]"
     ]
    },
    {
     "name": "stdout",
     "output_type": "stream",
     "text": [
      "1\n",
      "1\n"
     ]
    },
    {
     "name": "stderr",
     "output_type": "stream",
     "text": [
      " 31%|████████████▏                           | 697/2281 [00:25<00:44, 35.73it/s]"
     ]
    },
    {
     "name": "stdout",
     "output_type": "stream",
     "text": [
      "1\n",
      "1\n",
      "1\n"
     ]
    },
    {
     "name": "stderr",
     "output_type": "stream",
     "text": [
      " 31%|████████████▍                           | 706/2281 [00:26<00:56, 27.74it/s]"
     ]
    },
    {
     "name": "stdout",
     "output_type": "stream",
     "text": [
      "1\n"
     ]
    },
    {
     "name": "stderr",
     "output_type": "stream",
     "text": [
      " 32%|████████████▉                           | 736/2281 [00:26<00:27, 55.31it/s]"
     ]
    },
    {
     "name": "stdout",
     "output_type": "stream",
     "text": [
      "1\n"
     ]
    },
    {
     "name": "stderr",
     "output_type": "stream",
     "text": [
      " 33%|█████████████▏                          | 749/2281 [00:26<00:35, 43.47it/s]"
     ]
    },
    {
     "name": "stdout",
     "output_type": "stream",
     "text": [
      "1\n",
      "1\n",
      "1\n",
      "1\n",
      "1\n",
      "1\n"
     ]
    },
    {
     "name": "stderr",
     "output_type": "stream",
     "text": [
      " 33%|█████████████▎                          | 762/2281 [00:27<00:29, 51.22it/s]"
     ]
    },
    {
     "name": "stdout",
     "output_type": "stream",
     "text": [
      "1\n",
      "1\n"
     ]
    },
    {
     "name": "stderr",
     "output_type": "stream",
     "text": [
      " 35%|█████████████▊                          | 788/2281 [00:28<00:50, 29.48it/s]"
     ]
    },
    {
     "name": "stdout",
     "output_type": "stream",
     "text": [
      "1\n",
      "1\n",
      "1\n",
      "1\n"
     ]
    },
    {
     "name": "stderr",
     "output_type": "stream",
     "text": [
      " 36%|██████████████▎                         | 813/2281 [00:28<00:29, 49.53it/s]"
     ]
    },
    {
     "name": "stdout",
     "output_type": "stream",
     "text": [
      "1\n",
      "1\n",
      "1\n"
     ]
    },
    {
     "name": "stderr",
     "output_type": "stream",
     "text": [
      "\r\n",
      " 36%|██████████████▎                         | 819/2281 [00:28<00:30, 48.16it/s]"
     ]
    },
    {
     "name": "stdout",
     "output_type": "stream",
     "text": [
      "1\n",
      "1\n",
      "1\n",
      "1\n",
      "1\n"
     ]
    },
    {
     "name": "stderr",
     "output_type": "stream",
     "text": [
      " 36%|██████████████▌                         | 830/2281 [00:29<00:34, 41.50it/s]"
     ]
    },
    {
     "name": "stdout",
     "output_type": "stream",
     "text": [
      "1\n"
     ]
    },
    {
     "name": "stderr",
     "output_type": "stream",
     "text": [
      " 37%|██████████████▋                         | 840/2281 [00:29<00:41, 34.70it/s]"
     ]
    },
    {
     "name": "stdout",
     "output_type": "stream",
     "text": [
      "1\n",
      "1\n"
     ]
    },
    {
     "name": "stderr",
     "output_type": "stream",
     "text": [
      " 37%|██████████████▉                         | 853/2281 [00:29<00:39, 36.54it/s]"
     ]
    },
    {
     "name": "stdout",
     "output_type": "stream",
     "text": [
      "1\n",
      "1\n"
     ]
    },
    {
     "name": "stderr",
     "output_type": "stream",
     "text": [
      " 38%|███████████████                         | 862/2281 [00:30<00:57, 24.52it/s]"
     ]
    },
    {
     "name": "stdout",
     "output_type": "stream",
     "text": [
      "1\n",
      "1\n"
     ]
    },
    {
     "name": "stderr",
     "output_type": "stream",
     "text": [
      " 38%|███████████████▏                        | 868/2281 [00:30<01:00, 23.19it/s]"
     ]
    },
    {
     "name": "stdout",
     "output_type": "stream",
     "text": [
      "1\n",
      "1\n"
     ]
    },
    {
     "name": "stderr",
     "output_type": "stream",
     "text": [
      " 40%|███████████████▉                        | 906/2281 [00:31<00:30, 44.73it/s]"
     ]
    },
    {
     "name": "stdout",
     "output_type": "stream",
     "text": [
      "1\n",
      "1\n",
      "1\n"
     ]
    },
    {
     "name": "stderr",
     "output_type": "stream",
     "text": [
      " 40%|████████████████▏                       | 922/2281 [00:31<00:28, 46.92it/s]"
     ]
    },
    {
     "name": "stdout",
     "output_type": "stream",
     "text": [
      "1\n"
     ]
    },
    {
     "name": "stderr",
     "output_type": "stream",
     "text": [
      " 42%|████████████████▋                       | 951/2281 [00:31<00:17, 78.04it/s]"
     ]
    },
    {
     "name": "stdout",
     "output_type": "stream",
     "text": [
      "1\n",
      "1\n"
     ]
    },
    {
     "name": "stderr",
     "output_type": "stream",
     "text": [
      " 43%|█████████████████                       | 974/2281 [00:32<00:16, 78.15it/s]"
     ]
    },
    {
     "name": "stdout",
     "output_type": "stream",
     "text": [
      "1\n",
      "1\n",
      "1\n",
      "1\n"
     ]
    },
    {
     "name": "stderr",
     "output_type": "stream",
     "text": [
      " 44%|█████████████████▏                     | 1002/2281 [00:33<00:25, 49.46it/s]"
     ]
    },
    {
     "name": "stdout",
     "output_type": "stream",
     "text": [
      "1\n",
      "1\n",
      "1\n"
     ]
    },
    {
     "name": "stderr",
     "output_type": "stream",
     "text": [
      " 45%|█████████████████▍                     | 1020/2281 [00:33<00:22, 54.93it/s]"
     ]
    },
    {
     "name": "stdout",
     "output_type": "stream",
     "text": [
      "1\n",
      "1\n",
      "1\n"
     ]
    },
    {
     "name": "stderr",
     "output_type": "stream",
     "text": [
      "\r\n",
      " 45%|█████████████████▌                     | 1027/2281 [00:33<00:26, 47.45it/s]"
     ]
    },
    {
     "name": "stdout",
     "output_type": "stream",
     "text": [
      "1\n"
     ]
    },
    {
     "name": "stderr",
     "output_type": "stream",
     "text": [
      " 46%|█████████████████▋                     | 1038/2281 [00:34<00:43, 28.71it/s]"
     ]
    },
    {
     "name": "stdout",
     "output_type": "stream",
     "text": [
      "1\n",
      "1\n",
      "1\n",
      "1\n"
     ]
    },
    {
     "name": "stderr",
     "output_type": "stream",
     "text": [
      " 46%|██████████████████                     | 1055/2281 [00:34<00:37, 32.86it/s]"
     ]
    },
    {
     "name": "stdout",
     "output_type": "stream",
     "text": [
      "1\n",
      "1\n",
      "1\n"
     ]
    },
    {
     "name": "stderr",
     "output_type": "stream",
     "text": [
      " 47%|██████████████████▏                    | 1065/2281 [00:35<00:41, 29.28it/s]"
     ]
    },
    {
     "name": "stdout",
     "output_type": "stream",
     "text": [
      "1\n"
     ]
    },
    {
     "name": "stderr",
     "output_type": "stream",
     "text": [
      " 47%|██████████████████▌                    | 1083/2281 [00:35<00:23, 50.84it/s]"
     ]
    },
    {
     "name": "stdout",
     "output_type": "stream",
     "text": [
      "1\n",
      "1\n",
      "1\n"
     ]
    },
    {
     "name": "stderr",
     "output_type": "stream",
     "text": [
      " 48%|██████████████████▋                    | 1096/2281 [00:35<00:27, 42.79it/s]"
     ]
    },
    {
     "name": "stdout",
     "output_type": "stream",
     "text": [
      "1\n",
      "1\n",
      "1\n",
      "1\n",
      "1\n"
     ]
    },
    {
     "name": "stderr",
     "output_type": "stream",
     "text": [
      " 49%|███████████████████                    | 1118/2281 [00:36<00:23, 49.40it/s]"
     ]
    },
    {
     "name": "stdout",
     "output_type": "stream",
     "text": [
      "1\n",
      "1\n",
      "1\n"
     ]
    },
    {
     "name": "stderr",
     "output_type": "stream",
     "text": [
      " 51%|███████████████████▉                   | 1167/2281 [00:36<00:13, 79.70it/s]"
     ]
    },
    {
     "name": "stdout",
     "output_type": "stream",
     "text": [
      "1\n",
      "1\n",
      "1\n",
      "1\n",
      "1\n",
      "1\n"
     ]
    },
    {
     "name": "stderr",
     "output_type": "stream",
     "text": [
      " 52%|████████████████████▍                  | 1192/2281 [00:36<00:11, 95.46it/s]"
     ]
    },
    {
     "name": "stdout",
     "output_type": "stream",
     "text": [
      "1\n",
      "1\n",
      "1\n"
     ]
    },
    {
     "name": "stderr",
     "output_type": "stream",
     "text": [
      " 54%|████████████████████▉                  | 1226/2281 [00:37<00:14, 70.89it/s]"
     ]
    },
    {
     "name": "stdout",
     "output_type": "stream",
     "text": [
      "1\n",
      "1\n",
      "1\n"
     ]
    },
    {
     "name": "stderr",
     "output_type": "stream",
     "text": [
      " 55%|█████████████████████▌                 | 1262/2281 [00:38<00:19, 51.06it/s]"
     ]
    },
    {
     "name": "stdout",
     "output_type": "stream",
     "text": [
      "1\n",
      "1\n"
     ]
    },
    {
     "name": "stderr",
     "output_type": "stream",
     "text": [
      " 56%|█████████████████████▉                 | 1286/2281 [00:38<00:14, 66.92it/s]"
     ]
    },
    {
     "name": "stdout",
     "output_type": "stream",
     "text": [
      "1\n",
      "1\n"
     ]
    },
    {
     "name": "stderr",
     "output_type": "stream",
     "text": [
      " 57%|██████████████████████▎                | 1304/2281 [00:38<00:14, 69.50it/s]"
     ]
    },
    {
     "name": "stdout",
     "output_type": "stream",
     "text": [
      "1\n",
      "1\n",
      "1\n",
      "1\n",
      "1\n"
     ]
    },
    {
     "name": "stderr",
     "output_type": "stream",
     "text": [
      " 59%|██████████████████████▊                | 1337/2281 [00:39<00:10, 90.30it/s]"
     ]
    },
    {
     "name": "stdout",
     "output_type": "stream",
     "text": [
      "1\n",
      "1\n",
      "1\n",
      "1\n",
      "1\n",
      "1\n",
      "1\n"
     ]
    },
    {
     "name": "stderr",
     "output_type": "stream",
     "text": [
      " 61%|███████████████████████▏              | 1393/2281 [00:39<00:07, 118.42it/s]"
     ]
    },
    {
     "name": "stdout",
     "output_type": "stream",
     "text": [
      "1\n",
      "1\n",
      "1\n",
      "1\n"
     ]
    },
    {
     "name": "stderr",
     "output_type": "stream",
     "text": [
      " 63%|███████████████████████▉              | 1436/2281 [00:39<00:05, 144.44it/s]"
     ]
    },
    {
     "name": "stdout",
     "output_type": "stream",
     "text": [
      "1\n",
      "1\n"
     ]
    },
    {
     "name": "stderr",
     "output_type": "stream",
     "text": [
      " 65%|████████████████████████▌             | 1472/2281 [00:40<00:05, 141.41it/s]"
     ]
    },
    {
     "name": "stdout",
     "output_type": "stream",
     "text": [
      "1\n",
      "1\n",
      "1\n",
      "1\n",
      "1\n",
      "1\n",
      "1\n",
      "1\n"
     ]
    },
    {
     "name": "stderr",
     "output_type": "stream",
     "text": [
      " 68%|█████████████████████████▉            | 1557/2281 [00:40<00:05, 137.45it/s]"
     ]
    },
    {
     "name": "stdout",
     "output_type": "stream",
     "text": [
      "1\n",
      "1\n",
      "1\n",
      "1\n"
     ]
    },
    {
     "name": "stderr",
     "output_type": "stream",
     "text": [
      " 72%|███████████████████████████▏          | 1634/2281 [00:41<00:03, 206.71it/s]"
     ]
    },
    {
     "name": "stdout",
     "output_type": "stream",
     "text": [
      "1\n",
      "1\n",
      "1\n",
      "1\n"
     ]
    },
    {
     "name": "stderr",
     "output_type": "stream",
     "text": [
      "100%|███████████████████████████████████████| 2281/2281 [00:42<00:00, 54.23it/s]\n"
     ]
    }
   ],
   "source": [
    "descrs = []\n",
    "\n",
    "global_cache = []\n",
    "\n",
    "for cont_id in tqdm(single_sample_preds_test[\"contract_id\"].unique()):\n",
    "\n",
    "    shap_sl = deepcopy(single_sample_preds_test[single_sample_preds_test['contract_id'] == cont_id])\n",
    "    data_sl = deepcopy(test[test[\"contract_id\"] == cont_id])\n",
    "\n",
    "    shap_sl[\"predicts\"] = running_mean(shap_sl[\"predicts\"], 3).tolist() + shap_sl[\"predicts\"].iloc[-2:].tolist()\n",
    "    preds_diff = shap_sl[\"predicts\"].diff().tolist()[1:]\n",
    "    p = shap_sl[\"predicts\"].tolist()\n",
    "    p_matrix = np.array([[sum([p[j] - k for k in p[:i]]) for i in range(len(p))] for j in range(len(p))])\n",
    "\n",
    "    for i, (idx, r) in enumerate(shap_sl.iterrows()):\n",
    "        s_d = []\n",
    "\n",
    "        if i < 3 and r[\"predicts\"] > 0.65:\n",
    "            s_d.append(\"Высокая вероятность срыва в начале контракта. Это может говорить о плохой начальной конфигурации параметров строительного объекта.\")\n",
    "            \n",
    "        if i < 3 and r[\"predicts\"] < 0.65:\n",
    "            s_d.append(\"Потенциальных проблем, которые могут свидетельствовать о повышении риска срыва сделки на данный момент не обнаружены. Контракты с таким стартовым распределением параметров срываются в начале сделки реже всего.\")\n",
    "        else:\n",
    "            if i > 2:\n",
    "                dists = p_matrix[i][1:i]\n",
    "                last_s = np.argmax(dists)\n",
    "                if last_s > 1 and max(dists) > 0.05:\n",
    "                    anomaly_features_time_slice = shap_sl.iloc[1:i][\"target_features\"].copy().tolist()\n",
    "                    anomaly_features_this_sample = shap_sl.iloc[i][\"target_features\"].copy()\n",
    "                    for_drop = [f for f in anomaly_features_this_sample if not any([f in x for x in anomaly_features_time_slice])]\n",
    "                    anomaly_features_this_sample = list(set(anomaly_features_this_sample) - set(for_drop))\n",
    "\n",
    "                    if len(anomaly_features_this_sample) > 0:\n",
    "                        for f in anomaly_features_this_sample:\n",
    "                            f_info = feature_names[feature_names[\"описание\"] == f]\n",
    "                            if len(f_info) > 0: # есть в таблице признаков (может не быть contract_length, нпрмр)\n",
    "                                f_info = f_info.iloc[0]\n",
    "                                if f_info[\"тип признака\"] == \"all_time\":\n",
    "                                    all_v = single_sample_preds_test.drop_duplicates(\"contract_id\")[[f, \"contract_id\", \"predicts\"]]\n",
    "                                    all_v = all_v[all_v[\"contract_id\"] != cont_id]\n",
    "                                    v = data_sl[feature_names[feature_names[\"описание\"] == f][\"колонка\"].iloc[0]].iloc[0]\n",
    "                                    all_v['dist'] = abs(all_v[f] - v) / abs(v)\n",
    "                                    n = all_v[all_v['dist'] < abs(v)]\n",
    "                                    if len(n) > 10:\n",
    "                                        n.sort_values(by=\"dist\", inplace=True)\n",
    "                                        v1 = n[\"predicts\"].iloc[:10].mean()\n",
    "                                        if v1 > 0.4:\n",
    "                                            s_d.append(f\"Обнаружено, что обнаружены контракты с похожим значением {f_info['предложный']} срываются в {round(v1, 2)*100}% случаев. Это значение сильно выше нормы, обратите на это внимание.\")\n",
    "                                        else:\n",
    "                                            s_d.append(f\"Контракты с похожими значениями {f_info['предложный']} срываются в {round(v1, 2)*100}% случаев. Это допустимое значение, что может говорить о стабильности и надёжности этого параметра.\")\n",
    "                                elif f_info[\"тип признака\"] in (\"per_week\", \"per_month\") and i >= 3:\n",
    "                                    agg_f = [x for x in contract_slices_high.columns if f in x]\n",
    "                                    agg_slice = contract_slices_test[(contract_slices_test[\"contract_id\"] == cont_id) & (contract_slices_test[\"index\"] == i)].iloc[0]\n",
    "                                    \n",
    "                                    agg_slice_f = agg_slice[agg_f].fillna(0).values\n",
    "                                    neighbors = contract_slices_high[agg_f][contract_slices_high[\"contract_id\"] != cont_id].fillna(0).values\n",
    "                                    f_dists = pairwise_distances(neighbors, agg_slice_f.reshape(1, -1)).flatten()\n",
    "                                    tmp_c = contract_slices_high[contract_slices_high[\"contract_id\"] != cont_id][f_dists < 8][\"contract_id\"].unique()\n",
    "                                    abc = max(dict(tmp[0][tmp[0][\"contract_id\"].astype(int).isin(tmp_c)][agg_f].max()), key=lambda x: x[1])\n",
    "                                    for k, v in poyasnitelnay_brigada.items():\n",
    "                                        if k in abc:\n",
    "                                            target = v\n",
    "                                            break\n",
    "                                    else:\n",
    "                                        target = \"\"    \n",
    "                                    s_d.append(f\"Обратите внимание на {fill_f(f_info['винительный'], last_s, f_info['тип признака'])}. За последнее время найдено {len(tmp_c)} контрактов с похожей временной динамикой этого параметра, которые не были завершены. {target}\")\n",
    "                    else:\n",
    "                        print(1)\n",
    "                        s_d.append(f\"За последние {last_s} {int_to_declesion(last_s)['недел']} наблюдается рост вероятности срыва\")       \n",
    "        if len(s_d) == 0:\n",
    "            s_d.append(f\"За последние {i+1} отчётов не обнаружено потенциальных проблем или аномалий, свидетельствующих о увеличении риска срыва сделки.\")\n",
    "        \n",
    "        if len(contractors_confidence[contractors_confidence[\"contractor_id\"] == data_sl[\"contractor_id\"].iloc[0]]) == 0:\n",
    "            s_d.append(\"Обратите внимание, что данный исполнитель не фигурировал ранее в истории выполнения заказов.\")\n",
    "        else:\n",
    "            suc_idx = round(contractors_confidence[contractors_confidence[\"contractor_id\"] == data_sl[\"contractor_id\"].iloc[0]][\"success_index\"].iloc[0], 2)\n",
    "            if suc_idx < 0.5:\n",
    "                s_d.append(f\"Индекс к доверия к исполнителю: {suc_idx}. Это ниже среднего, а значит исполнитель или другие исполнители, с которыми он связан, имели высокую доли похожих сорвавшихся сделок.\")\n",
    "            else:\n",
    "                s_d.append(f\"Индекс к доверия к исполнителю: {suc_idx}. Это в пределах допустимой нормы, а значит исполнитель или другие исполнители, с которыми он связан, имели низкую долю похожих сорвавшихся сделок и высокий кредит доверия.\")\n",
    "        \n",
    "        if data_sl[\"specialization_id\"].iloc[0] not in list(spec_data_index.keys()):\n",
    "            s_d.append(f\"Обратите внимание, что специализация с такой, как у этого контракта, не встречалась ранее. Это может повлиять на другие параметры и привести к неустойчивости модели.\")\n",
    "        else:\n",
    "            suc_idx = round(spec_data_index[data_sl[\"specialization_id\"].iloc[0]][\"percent_breaked\"], 2)\n",
    "            if suc_idx >= 20:\n",
    "                s_d.append(f\"Обратите внимание, что контракты с такой специализацией срываются чаще, чем обычно.\")\n",
    "            else:\n",
    "                s_d.append(f\"Контракты с такой специализацией срываются в среднем в {suc_idx*100}% случаев. Это допустимое значение, показывающее, что специализация мало влияет на вероятность срыва.\")\n",
    "\n",
    "        \n",
    "        descrs.append(\"\\n -\".join(s_d))"
   ]
  },
  {
   "cell_type": "code",
   "execution_count": 95,
   "id": "38769056",
   "metadata": {},
   "outputs": [],
   "source": [
    "descriptions = pd.Series(descrs)"
   ]
  },
  {
   "cell_type": "code",
   "execution_count": 97,
   "id": "d8959fbe",
   "metadata": {},
   "outputs": [],
   "source": [
    "descriptions.to_csv(\"descriptions.csv\")"
   ]
  },
  {
   "cell_type": "code",
   "execution_count": 51,
   "id": "de44ce85",
   "metadata": {},
   "outputs": [
    {
     "data": {
      "text/plain": [
       "[<matplotlib.lines.Line2D at 0x160a96820>]"
      ]
     },
     "execution_count": 51,
     "metadata": {},
     "output_type": "execute_result"
    },
    {
     "data": {
      "image/png": "[encoded data removed]",
      "text/plain": [
       "<Figure size 640x480 with 1 Axes>"
      ]
     },
     "metadata": {},
     "output_type": "display_data"
    }
   ],
   "source": [
    "plt.plot(shap_sl[\"predicts\"].tolist())\n",
    "plt.plot(running_mean(shap_sl[\"predicts\"], 3))"
   ]
  },
  {
   "cell_type": "code",
   "execution_count": 210,
   "id": "9e8b3f1b",
   "metadata": {},
   "outputs": [
    {
     "name": "stderr",
     "output_type": "stream",
     "text": [
      "100%|██████████████████████████████████████████| 45/45 [00:00<00:00, 391.82it/s]\n"
     ]
    }
   ],
   "source": [
    "graph = {}\n",
    "\n",
    "for f in tqdm(set(sum(selected_features, []))):\n",
    "    for x in selected_features:\n",
    "        if f in x:\n",
    "            if f not in list(graph.keys()):\n",
    "                graph[f] = {}\n",
    "            for x1 in x:\n",
    "                if x1 != f:\n",
    "                    if x1 not in list(graph[f].keys()):\n",
    "                        graph[f][x1] = 1\n",
    "                    else:\n",
    "                        graph[f][x1] += 1"
   ]
  },
  {
   "cell_type": "code",
   "execution_count": 211,
   "id": "9dac8309",
   "metadata": {},
   "outputs": [],
   "source": [
    "import networkx as nx\n",
    "from pyvis.network import Network\n",
    "\n",
    "import matplotlib.pyplot as plt"
   ]
  },
  {
   "cell_type": "code",
   "execution_count": 212,
   "id": "2017d083",
   "metadata": {},
   "outputs": [
    {
     "name": "stdout",
     "output_type": "stream",
     "text": [
      "Warning: When  cdn_resources is 'local' jupyter notebook has issues displaying graphics on chrome/safari. Use cdn_resources='in_line' or cdn_resources='remote' if you have issues viewing graphics in a notebook.\n"
     ]
    }
   ],
   "source": [
    "net = Network(notebook=True)\n",
    "\n",
    "# Добавляем узлы и ребра\n",
    "for node, edges in graph.items():\n",
    "    net.add_node(node)  # Добавляем узел\n",
    "    for connected_node, weight in edges.items():\n",
    "        net.add_node(connected_node)  # Добавляем подключенный узел\n",
    "        net.add_edge(node, connected_node, value=weight)  # Добавляем взвешенное ребро\n"
   ]
  },
  {
   "cell_type": "code",
   "execution_count": 213,
   "id": "12225981",
   "metadata": {},
   "outputs": [
    {
     "name": "stdout",
     "output_type": "stream",
     "text": [
      "graph.html\n"
     ]
    },
    {
     "data": {
      "text/html": [
       "\n",
       "        <iframe\n",
       "            width=\"100%\"\n",
       "            height=\"600px\"\n",
       "            src=\"graph.html\"\n",
       "            frameborder=\"0\"\n",
       "            allowfullscreen\n",
       "            \n",
       "        ></iframe>\n",
       "        "
      ],
      "text/plain": [
       "<IPython.lib.display.IFrame at 0x3626172b0>"
      ]
     },
     "execution_count": 213,
     "metadata": {},
     "output_type": "execute_result"
    }
   ],
   "source": [
    "net.show(\"graph.html\")"
   ]
  },
  {
   "cell_type": "code",
   "execution_count": 29,
   "id": "00db8b6d",
   "metadata": {},
   "outputs": [
    {
     "data": {
      "text/plain": [
       "646           NaN\n",
       "2249    -0.406758\n",
       "3380     0.407349\n",
       "3871     0.000000\n",
       "5628     0.000000\n",
       "6076     0.000000\n",
       "7281     0.000000\n",
       "8746     0.000000\n",
       "9603     0.000113\n",
       "9806     0.000000\n",
       "10848    0.000000\n",
       "11642    0.000000\n",
       "12576    0.000000\n",
       "13821    0.000000\n",
       "13935    0.000000\n",
       "14995    0.000000\n",
       "16052    0.000000\n",
       "Name: Сумма налогов, dtype: float64"
      ]
     },
     "execution_count": 29,
     "metadata": {},
     "output_type": "execute_result"
    }
   ],
   "source": [
    "tmp_diffs['Сумма налогов']"
   ]
  },
  {
   "cell_type": "code",
   "execution_count": 53,
   "id": "69ab4a74",
   "metadata": {},
   "outputs": [],
   "source": [
    "d = dict(full_contract_pred[0].iloc[0])"
   ]
  },
  {
   "cell_type": "code",
   "execution_count": 63,
   "id": "426c4497",
   "metadata": {},
   "outputs": [
    {
     "data": {
      "text/plain": [
       "'Среднее кол-во рабочих подрядчика на строплощадке за {n} недел{m} на текущий момент контракта'"
      ]
     },
     "execution_count": 63,
     "metadata": {},
     "output_type": "execute_result"
    }
   ],
   "source": [
    "list(d.keys())[2:][np.argmax(list(d.values())[2:])]"
   ]
  },
  {
   "cell_type": "code",
   "execution_count": 64,
   "id": "28c6697e",
   "metadata": {},
   "outputs": [
    {
     "data": {
      "text/plain": [
       "'Время с последней даты заявки по контракту__linear_trend__attr_intercept'"
      ]
     },
     "execution_count": 64,
     "metadata": {},
     "output_type": "execute_result"
    }
   ],
   "source": [
    "list(d.keys())[2:][np.argmin(list(d.values())[2:])]"
   ]
  },
  {
   "cell_type": "code",
   "execution_count": null,
   "id": "da742422",
   "metadata": {},
   "outputs": [],
   "source": []
  },
  {
   "cell_type": "code",
   "execution_count": null,
   "id": "ae91ffa9",
   "metadata": {},
   "outputs": [],
   "source": []
  },
  {
   "cell_type": "code",
   "execution_count": null,
   "id": "1f6fa38f",
   "metadata": {},
   "outputs": [],
   "source": []
  },
  {
   "cell_type": "code",
   "execution_count": null,
   "id": "a5239842",
   "metadata": {},
   "outputs": [],
   "source": []
  },
  {
   "cell_type": "code",
   "execution_count": null,
   "id": "f6a4eec0",
   "metadata": {},
   "outputs": [],
   "source": []
  },
  {
   "cell_type": "code",
   "execution_count": null,
   "id": "ea2f8fd5",
   "metadata": {},
   "outputs": [],
   "source": []
  }
 ],
 "metadata": {
  "kernelspec": {
   "display_name": "Python 3 (ipykernel)",
   "language": "python",
   "name": "python3"
  },
  "language_info": {
   "codemirror_mode": {
    "name": "ipython",
    "version": 3
   },
   "file_extension": ".py",
   "mimetype": "text/x-python",
   "name": "python",
   "nbconvert_exporter": "python",
   "pygments_lexer": "ipython3",
   "version": "3.9.18"
  }
 },
 "nbformat": 4,
 "nbformat_minor": 5
}
