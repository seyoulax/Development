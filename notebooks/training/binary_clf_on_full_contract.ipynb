{
 "cells": [
  {
   "cell_type": "markdown",
   "id": "1068f659",
   "metadata": {},
   "source": [
    "## Классификация вероятности срыва на всём контракте"
   ]
  },
  {
   "cell_type": "markdown",
   "id": "446e1739",
   "metadata": {},
   "source": [
    "В этом ноутбуке мы аггрегируем признаки на уровне контракта и делаем классификацию по всей последовательности сразу. Полезно для проверки различных общих гипотез и блендинга."
   ]
  },
  {
   "cell_type": "code",
   "execution_count": 1,
   "id": "59a3cb38",
   "metadata": {},
   "outputs": [
    {
     "name": "stderr",
     "output_type": "stream",
     "text": [
      "/Users/bondarchukgleb/anaconda3/lib/python3.9/site-packages/pandas/core/arrays/masked.py:60: UserWarning: Pandas requires version '1.3.6' or newer of 'bottleneck' (version '1.3.5' currently installed).\n",
      "  from pandas.core import (\n"
     ]
    }
   ],
   "source": [
    "import pandas as pd\n",
    "import numpy as np\n",
    "from sklearn.tree import DecisionTreeClassifier\n",
    "from catboost import CatBoostClassifier, Pool, CatBoostRegressor\n",
    "import seaborn as sns\n",
    "from sklearn.model_selection import train_test_split\n",
    "from collections import Counter\n",
    "import matplotlib.pyplot as plt\n",
    "from tqdm import tqdm\n",
    "from copy import deepcopy\n",
    "from datetime import datetime\n",
    "from sklearn.linear_model import LinearRegression\n",
    "import pickle\n",
    "\n",
    "\n",
    "from sklearn.manifold import TSNE\n",
    "from sklearn.metrics import f1_score, roc_auc_score\n",
    "\n",
    "from sklearn.model_selection import KFold, StratifiedKFold\n",
    "from sklearn.metrics import f1_score, roc_auc_score\n",
    "from sklearn.model_selection import train_test_split\n",
    "from sklearn.impute import SimpleImputer\n",
    "from sklearn.cluster import KMeans, DBSCAN\n",
    "from sklearn.preprocessing import StandardScaler\n",
    "\n",
    "import optuna\n",
    "\n",
    "pd.options.display.max_columns = 120"
   ]
  },
  {
   "cell_type": "code",
   "execution_count": 2,
   "id": "a148d2ca",
   "metadata": {},
   "outputs": [],
   "source": [
    "X_train = pd.read_csv(\"data_final/train_X.csv\")\n",
    "y_train_all = pd.read_csv(\"data_final/train_y.csv\")\n",
    "\n",
    "train = X_train.merge(y_train_all, on=[\"contract_id\", \"report_date\"], how=\"left\")\n",
    "y_train_all = train[\"default6\"]\n",
    "\n",
    "train_orig = deepcopy(train)"
   ]
  },
  {
   "cell_type": "code",
   "execution_count": 3,
   "id": "e9de3ab2",
   "metadata": {},
   "outputs": [],
   "source": [
    "test = pd.read_csv(\"data_final/test2_X.csv\")"
   ]
  },
  {
   "cell_type": "code",
   "execution_count": 4,
   "id": "887ea48b",
   "metadata": {},
   "outputs": [],
   "source": [
    "always_const_f = pickle.load(open(\"generated_features/constant_features_list.pickle\", \"rb\"))"
   ]
  },
  {
   "cell_type": "code",
   "execution_count": null,
   "id": "3bda6222",
   "metadata": {},
   "outputs": [],
   "source": []
  },
  {
   "cell_type": "code",
   "execution_count": 5,
   "id": "fe126074",
   "metadata": {},
   "outputs": [],
   "source": [
    "# Добавим графовые признаки, аггрегированные по contractor_id\n",
    "\n",
    "graph_cols = []\n",
    "graph_features = pd.read_csv(\"generated_features/contractor_graph_features_v2.csv\")\n",
    "train = train.merge(graph_features, on=\"contractor_id\", how=\"left\")\n",
    "test = test.merge(graph_features, on=\"contractor_id\", how=\"left\")\n",
    "graph_cols.extend(graph_features.drop(\"contractor_id\", axis=1).columns)\n",
    "\n",
    "graph_features = pd.read_csv(\"generated_features/contractor_graph_features_v3.csv\")\n",
    "train = train.merge(graph_features, on=\"contractor_id\", how=\"left\")\n",
    "test = test.merge(graph_features, on=\"contractor_id\", how=\"left\")\n",
    "graph_cols.extend(graph_features.drop(\"contractor_id\", axis=1).columns)\n",
    "\n",
    "#always_const_f.extend(graph_cols)"
   ]
  },
  {
   "cell_type": "code",
   "execution_count": 6,
   "id": "ca04ff1c",
   "metadata": {},
   "outputs": [],
   "source": [
    "all_data = pd.concat([train, test], axis=0)"
   ]
  },
  {
   "cell_type": "markdown",
   "id": "2d961927",
   "metadata": {},
   "source": [
    "Удалим признаки, сильно отличающиеся в трейне и тесте (нашли с помощью overfit_researches)"
   ]
  },
  {
   "cell_type": "code",
   "execution_count": 7,
   "id": "86bde4b9",
   "metadata": {},
   "outputs": [],
   "source": [
    "features = pd.read_csv(\"utils/features_named.csv\", index_col=0)"
   ]
  },
  {
   "cell_type": "code",
   "execution_count": 8,
   "id": "8dd11de2",
   "metadata": {},
   "outputs": [],
   "source": [
    "all_data = all_data[features[\"колонка\"].tolist() + [\"default6\", \"contract_id\", \"report_date\", \"contract_date\"]]"
   ]
  },
  {
   "cell_type": "code",
   "execution_count": 9,
   "id": "e00ff3a2",
   "metadata": {},
   "outputs": [],
   "source": [
    "ts_features = pickle.load(open(\"generated_features/time_series_features.pickle\", \"rb\"))"
   ]
  },
  {
   "cell_type": "code",
   "execution_count": null,
   "id": "97678027",
   "metadata": {},
   "outputs": [],
   "source": []
  },
  {
   "cell_type": "markdown",
   "id": "0a669dbf",
   "metadata": {},
   "source": [
    "Для всех временных признаков, изменяющихся внутри контракт айти, используем линейную интерполяцию, чтобы удалить пропуски."
   ]
  },
  {
   "cell_type": "code",
   "execution_count": 10,
   "id": "26f7d683",
   "metadata": {},
   "outputs": [],
   "source": [
    "def interpolate_columns(df, columns):\n",
    "    for col in columns:\n",
    "        if df[col].isnull().all():\n",
    "            continue\n",
    "        df[col] = df[col].interpolate(method='linear', limit_direction='both')\n",
    "    return df"
   ]
  },
  {
   "cell_type": "code",
   "execution_count": 11,
   "id": "b97606e5",
   "metadata": {},
   "outputs": [
    {
     "data": {
      "text/plain": [
       "189003"
      ]
     },
     "execution_count": 11,
     "metadata": {},
     "output_type": "execute_result"
    }
   ],
   "source": [
    "all_data.isna().sum().sum()"
   ]
  },
  {
   "cell_type": "code",
   "execution_count": 12,
   "id": "70792200",
   "metadata": {},
   "outputs": [],
   "source": [
    "rename_dict = {x[0]: x[1] for x in features[[\"колонка\", \"описание\"]].values}\n",
    "\n",
    "all_data.rename(rename_dict, axis=1, inplace=True)\n",
    "train.rename(rename_dict, axis=1, inplace=True)"
   ]
  },
  {
   "cell_type": "code",
   "execution_count": 13,
   "id": "f0efd57d",
   "metadata": {
    "scrolled": true
   },
   "outputs": [
    {
     "name": "stderr",
     "output_type": "stream",
     "text": [
      "100%|██████████████████████████████████████| 5729/5729 [00:31<00:00, 180.60it/s]\n"
     ]
    }
   ],
   "source": [
    "contracts = []\n",
    "for i in tqdm(all_data[\"contract_id\"].unique()):\n",
    "    tmp = all_data[all_data[\"contract_id\"] == i]\n",
    "    tmp = tmp.sort_values(by=\"report_date\")\n",
    "    #if len(tmp) < 10:\n",
    "    tmp = interpolate_columns(tmp, ts_features)\n",
    "    contracts.append(tmp)"
   ]
  },
  {
   "cell_type": "code",
   "execution_count": 14,
   "id": "914b631c",
   "metadata": {},
   "outputs": [],
   "source": [
    "all_data = pd.concat(contracts, axis=0)"
   ]
  },
  {
   "cell_type": "code",
   "execution_count": 15,
   "id": "7e653877",
   "metadata": {},
   "outputs": [],
   "source": [
    "isna_stat = all_data.isna().sum()[all_data.isna().sum() > 0]\n",
    "features2drop = [col for col in isna_stat.index if isna_stat[col] > (all_data.shape[0] * (3/5))]"
   ]
  },
  {
   "cell_type": "code",
   "execution_count": 16,
   "id": "30906013",
   "metadata": {},
   "outputs": [
    {
     "data": {
      "text/plain": [
       "[]"
      ]
     },
     "execution_count": 16,
     "metadata": {},
     "output_type": "execute_result"
    }
   ],
   "source": [
    "features2drop"
   ]
  },
  {
   "cell_type": "markdown",
   "id": "7b511bd7",
   "metadata": {},
   "source": [
    "  "
   ]
  },
  {
   "cell_type": "markdown",
   "id": "5de02fa7",
   "metadata": {},
   "source": [
    "Остались признаки, которые не получилось заполнить, т.к. они либо константные, либо пропущены на протяжении всего контракт айди. Заменим их на медианные значения."
   ]
  },
  {
   "cell_type": "code",
   "execution_count": 17,
   "id": "5277da19",
   "metadata": {},
   "outputs": [],
   "source": [
    "all_data.drop(features2drop, axis=1, inplace=True)"
   ]
  },
  {
   "cell_type": "code",
   "execution_count": 18,
   "id": "b72a26bc",
   "metadata": {},
   "outputs": [],
   "source": [
    "isna_stat = all_data.isna().sum()[all_data.isna().sum() > 0]\n",
    "del isna_stat[\"default6\"]\n",
    "median_stats = {}\n",
    "\n",
    "for f in set(isna_stat[isna_stat > 0].keys().tolist()):\n",
    "    median_stats[f] = np.median(np.median(all_data.dropna()[f]))"
   ]
  },
  {
   "cell_type": "code",
   "execution_count": null,
   "id": "36782331",
   "metadata": {},
   "outputs": [],
   "source": []
  },
  {
   "cell_type": "code",
   "execution_count": 19,
   "id": "be5f0549",
   "metadata": {},
   "outputs": [],
   "source": [
    "for f, v in median_stats.items():\n",
    "    all_data[f] = all_data[f].fillna(v)"
   ]
  },
  {
   "cell_type": "code",
   "execution_count": 20,
   "id": "ece87ae7",
   "metadata": {},
   "outputs": [
    {
     "name": "stderr",
     "output_type": "stream",
     "text": [
      "100%|█████████████████████████████████████| 5729/5729 [00:03<00:00, 1480.65it/s]\n"
     ]
    }
   ],
   "source": [
    "contracts = []\n",
    "for i in tqdm(all_data[\"contract_id\"].unique()):\n",
    "    tmp = all_data[all_data[\"contract_id\"] == i]\n",
    "    tmp = tmp.sort_values(by=\"report_date\")\n",
    "    #if len(tmp) < 10:\n",
    "    #contracts.append(tmp)\n",
    "    \n",
    "    \"\"\"if i not in test[\"contract_id\"].unique():\n",
    "        if len(tmp) > 10:\n",
    "            contracts.append(tmp.iloc[:len(tmp)//2])\n",
    "            contracts.append(tmp.iloc[len(tmp)//2:])\n",
    "            contracts.append(tmp)\n",
    "        elif len(tmp) > 20:\n",
    "            contracts.append(tmp.iloc[:len(tmp)//3])\n",
    "            contracts.append(tmp.iloc[len(tmp)//3:(len(tmp)//3)*2])\n",
    "            contracts.append(tmp.iloc[(len(tmp)//3)*2:])\n",
    "            contracts.append(tmp)\n",
    "        else:\n",
    "            contracts.append(tmp)\n",
    "    else:\"\"\"\n",
    "    contracts.append(tmp)"
   ]
  },
  {
   "cell_type": "markdown",
   "id": "27714e0f",
   "metadata": {},
   "source": [
    "   "
   ]
  },
  {
   "cell_type": "markdown",
   "id": "84117c41",
   "metadata": {},
   "source": [
    "### Подход к бинаризации временных признаков"
   ]
  },
  {
   "cell_type": "markdown",
   "id": "1c2f4149",
   "metadata": {},
   "source": [
    "Мы не можем подать в явном виде временные признаки в катбуст. Но можно выполнить бинаризацию: посчитать кол-во значений каждого временного признака внутри контракта в каком-нибудь промежутке. В качестве промежутка можно, например, выбрать квантили. Но это не всегда бывает эффективно. Поэтому предлагается следующая стратегия:  \n",
    "- Обучим обычное дерево решений предсказывать таргет по одному признаку;\n",
    "- Посмотрим, как дерево решений пытается разбить признак для минимизации энтропии таргета;\n",
    "- Возьмём разбиения дерева решений;\n",
    "- Повторим для каждого признака;\n",
    "- Бинаризуем каждый признак по разбиению соответствующего дерева решений."
   ]
  },
  {
   "cell_type": "code",
   "execution_count": 21,
   "id": "6aeef3b8",
   "metadata": {},
   "outputs": [],
   "source": [
    "def get_tree_rules(tree, feature_names):\n",
    "    tree_ = tree.tree_\n",
    "    feature_name = [\n",
    "        feature_names[i] if i != -2 else \"undefined!\"\n",
    "        for i in tree_.feature\n",
    "    ]\n",
    "\n",
    "    rules_list = []\n",
    "    bins = []\n",
    "\n",
    "    def recurse(node, depth, current_rule):\n",
    "        nonlocal bins\n",
    "        if tree_.feature[node] != -2:\n",
    "            name = feature_name[node]\n",
    "            threshold = tree_.threshold[node]\n",
    "\n",
    "            # Добавляем правило для левого дочернего узла\n",
    "            left_rule = current_rule + [f\"if {name} <= {threshold}\"]\n",
    "            bins.append(threshold)\n",
    "            recurse(tree_.children_left[node], depth + 1, left_rule)\n",
    "\n",
    "            # Добавляем правило для правого дочернего узла\n",
    "            right_rule = current_rule + [f\"if {name} > {threshold}\"]\n",
    "            bins.append(threshold)\n",
    "            recurse(tree_.children_right[node], depth + 1, right_rule)\n",
    "        else:\n",
    "            # Добавляем правило для листа\n",
    "            leaf_value = tree_.value[node]\n",
    "            rules_list.append((current_rule, leaf_value))\n",
    "\n",
    "    recurse(0, 0, [])\n",
    "    return bins"
   ]
  },
  {
   "cell_type": "code",
   "execution_count": 22,
   "id": "f32b602c",
   "metadata": {},
   "outputs": [],
   "source": [
    "bins_dict = {}\n",
    "\n",
    "for ts in ts_features:\n",
    "    tmp = train[ts].values.reshape(-1, 1)\n",
    "    ds = DecisionTreeClassifier(max_depth=3).fit(tmp, y_train_all.values)\n",
    "    bins = get_tree_rules(ds, [ts])\n",
    "    bins_dict[ts] = list(sorted(list(set(bins))))"
   ]
  },
  {
   "cell_type": "markdown",
   "id": "4d572f22",
   "metadata": {},
   "source": [
    "Сгенерируем аггрегированные признаки"
   ]
  },
  {
   "cell_type": "code",
   "execution_count": 23,
   "id": "d6c07a70",
   "metadata": {},
   "outputs": [
    {
     "name": "stderr",
     "output_type": "stream",
     "text": [
      "5729it [01:40, 57.20it/s]\n"
     ]
    }
   ],
   "source": [
    "X = []\n",
    "idxes = []\n",
    "y = []\n",
    "\n",
    "#contactor_to_popular = Counter([c.iloc[0][\"contractor_id\"] for c in contracts])\n",
    "\n",
    "for i, c in tqdm(enumerate(contracts)):\n",
    "    col_names = []\n",
    "    \n",
    "    c[\"report_date\"] = pd.to_datetime(c[\"report_date\"])\n",
    "    c[\"contract_date\"] = pd.to_datetime(c[\"contract_date\"])\n",
    "    \n",
    "    tmp = []\n",
    "    f, l = c.iloc[0], c.iloc[-1]\n",
    "    \n",
    "    tmp.extend((f[ts_features] - l[ts_features]).tolist()) # разница временных признако в начале и в конце контракта\n",
    "    tmp.extend(f[ts_features].tolist()) # временные признаки в начале контракта \n",
    "    tmp.extend(l[ts_features].tolist()) # временные признаки в конце контракта\n",
    "    tmp.extend(f[always_const_f].tolist()) # все неизменяющиеся внутри контракта признаки\n",
    "    \n",
    "    tmp.append(len(c)) # длина отчётности\n",
    "    tmp.append((l[\"report_date\"] - f[\"report_date\"]).days) # длина отчётности в днях\n",
    "    \n",
    "    col_names.extend([f\"разница между началом контракта и текущим моментом у {x}\" for x in ts_features])\n",
    "    col_names.extend([f\"{x} в начале контракта\" for x in ts_features])\n",
    "    col_names.extend([f\"{x} на текущий момент контракта\" for x in ts_features])\n",
    "    col_names.extend(always_const_f)\n",
    "    col_names.append(\"Длина контракта\")\n",
    "    col_names.append(\"Сколько прошло дней с момента начала отчётов\")\n",
    "    \n",
    "    c1 = c.drop([\"report_date\", \"contract_date\"], axis=1)\n",
    "        \n",
    "    for ts_f in ts_features:    \n",
    "        tmp.append(len(set(ts_f)) == 1) # временной признак всегда константный\n",
    "        bins = bins_dict[ts_f]\n",
    "        tmp.append((c[ts_f] < bins[0]).sum())\n",
    "        tmp.append((c[ts_f] > bins[-1]).sum())\n",
    "        col_names.append(f\"{ts_f} не изменяется на протяжении всех отчётов\")\n",
    "        col_names.append(f\"{ts_f} меньше {bins[0]}\")\n",
    "        col_names.append(f\"{ts_f} больше {bins[-1]}\")\n",
    "        \n",
    "        h = c[ts_f]\n",
    "        for i in range(1, len(bins)-1):\n",
    "            tmp.append(((h > bins[i-1]) & (h < bins[i])).sum()) # вхождение в каждый бин\n",
    "            col_names.append(f\"{ts_f} встречается в диапазоне от {bins[i-1]} до {bins[i]}\")\n",
    "            \n",
    "    if c[\"contract_id\"].iloc[0] in train[\"contract_id\"]:\n",
    "        y.append(int(c[\"default6\"].sum() > 0))\n",
    "        \n",
    "        \n",
    "    X.append(tmp)\n",
    "    idxes.append(c[\"contract_id\"].iloc[0])"
   ]
  },
  {
   "cell_type": "code",
   "execution_count": 24,
   "id": "7995090b",
   "metadata": {},
   "outputs": [],
   "source": [
    "X = pd.DataFrame(np.array(X), index=idxes, columns=col_names)\n",
    "X_orig = X.copy()\n",
    "y = np.array(y)"
   ]
  },
  {
   "cell_type": "code",
   "execution_count": 25,
   "id": "b4f38895",
   "metadata": {},
   "outputs": [],
   "source": [
    "X = X_orig.copy()"
   ]
  },
  {
   "cell_type": "code",
   "execution_count": null,
   "id": "645d8f80",
   "metadata": {},
   "outputs": [],
   "source": []
  },
  {
   "cell_type": "code",
   "execution_count": 26,
   "id": "30326048",
   "metadata": {},
   "outputs": [],
   "source": [
    "targets = pd.concat(contracts).dropna(subset=[\"default6\"])[[\"contract_id\", \"default6\"]].groupby(\"contract_id\").agg(\"sum\")"
   ]
  },
  {
   "cell_type": "code",
   "execution_count": 27,
   "id": "fd804c2d",
   "metadata": {},
   "outputs": [],
   "source": [
    "targets[\"default6\"] = targets[\"default6\"] > 0"
   ]
  },
  {
   "cell_type": "code",
   "execution_count": 28,
   "id": "6fd37bdb",
   "metadata": {},
   "outputs": [],
   "source": [
    "targets['default6'] = targets['default6'].astype(int)"
   ]
  },
  {
   "cell_type": "code",
   "execution_count": 29,
   "id": "a4442d60",
   "metadata": {},
   "outputs": [],
   "source": [
    "X[\"contract_id\"] = idxes"
   ]
  },
  {
   "cell_type": "markdown",
   "id": "4b0509e0",
   "metadata": {},
   "source": [
    "Сгенерируем продвинутые временные признаки с помощью tsfresh"
   ]
  },
  {
   "cell_type": "code",
   "execution_count": 30,
   "id": "af5f6bd6",
   "metadata": {},
   "outputs": [
    {
     "name": "stderr",
     "output_type": "stream",
     "text": [
      "Feature Extraction:   0%|                                | 0/40 [00:00<?, ?it/s]/Users/bondarchukgleb/anaconda3/lib/python3.9/site-packages/pandas/core/arrays/masked.py:60: UserWarning: Pandas requires version '1.3.6' or newer of 'bottleneck' (version '1.3.5' currently installed).\n",
      "  from pandas.core import (\n",
      "/Users/bondarchukgleb/anaconda3/lib/python3.9/site-packages/pandas/core/arrays/masked.py:60: UserWarning: Pandas requires version '1.3.6' or newer of 'bottleneck' (version '1.3.5' currently installed).\n",
      "  from pandas.core import (\n",
      "/Users/bondarchukgleb/anaconda3/lib/python3.9/site-packages/pandas/core/arrays/masked.py:60: UserWarning: Pandas requires version '1.3.6' or newer of 'bottleneck' (version '1.3.5' currently installed).\n",
      "  from pandas.core import (\n",
      "/Users/bondarchukgleb/anaconda3/lib/python3.9/site-packages/pandas/core/arrays/masked.py:60: UserWarning: Pandas requires version '1.3.6' or newer of 'bottleneck' (version '1.3.5' currently installed).\n",
      "  from pandas.core import (\n",
      "/Users/bondarchukgleb/anaconda3/lib/python3.9/site-packages/pandas/core/arrays/masked.py:60: UserWarning: Pandas requires version '1.3.6' or newer of 'bottleneck' (version '1.3.5' currently installed).\n",
      "  from pandas.core import (\n",
      "/Users/bondarchukgleb/anaconda3/lib/python3.9/site-packages/pandas/core/arrays/masked.py:60: UserWarning: Pandas requires version '1.3.6' or newer of 'bottleneck' (version '1.3.5' currently installed).\n",
      "  from pandas.core import (\n",
      "/Users/bondarchukgleb/anaconda3/lib/python3.9/site-packages/pandas/core/arrays/masked.py:60: UserWarning: Pandas requires version '1.3.6' or newer of 'bottleneck' (version '1.3.5' currently installed).\n",
      "  from pandas.core import (\n",
      "/Users/bondarchukgleb/anaconda3/lib/python3.9/site-packages/pandas/core/arrays/masked.py:60: UserWarning: Pandas requires version '1.3.6' or newer of 'bottleneck' (version '1.3.5' currently installed).\n",
      "  from pandas.core import (\n",
      "Feature Extraction: 100%|███████████████████████| 40/40 [00:23<00:00,  1.67it/s]\n"
     ]
    }
   ],
   "source": [
    "all_data = all_data[ts_features + [\"report_date\", \"contract_id\"]].rename({x: x.replace(\"__\", \"_\") for x in ts_features}, axis=1)\n",
    "all_data = all_data.fillna(0)\n",
    "\n",
    "from tsfresh.feature_extraction import MinimalFCParameters, EfficientFCParameters\n",
    "from tsfresh import extract_features, select_features\n",
    "\n",
    "custom_fc_parameters = MinimalFCParameters()\n",
    "custom_fc_parameters.update({\n",
    "    \"linear_trend\": [{\"attr\": \"slope\"}, {\"attr\": \"intercept\"}],\n",
    "    \"number_peaks\": [{\"n\": 1}, {\"n\": 3}, {\"n\": 5}],\n",
    "})\n",
    "\n",
    "# закомментированные признаки увеличивали переобучение :(\n",
    "\n",
    "extracted_features = extract_features(all_data, \n",
    "                                      column_id=\"contract_id\", \n",
    "                                      column_sort=\"report_date\", n_jobs=8, \n",
    "                                      default_fc_parameters=custom_fc_parameters)\n"
   ]
  },
  {
   "cell_type": "code",
   "execution_count": 31,
   "id": "60235a13",
   "metadata": {},
   "outputs": [],
   "source": [
    "X = X.merge(extracted_features, left_on=\"contract_id\", right_index=True, how=\"left\")"
   ]
  },
  {
   "cell_type": "code",
   "execution_count": 32,
   "id": "857c93c3",
   "metadata": {},
   "outputs": [],
   "source": [
    "X = X.rename({x: str(x).replace('\"', \"\") for x in X.columns}, axis=1)"
   ]
  },
  {
   "cell_type": "code",
   "execution_count": null,
   "id": "e26a1e57",
   "metadata": {},
   "outputs": [],
   "source": []
  },
  {
   "cell_type": "code",
   "execution_count": 33,
   "id": "a9c52d5c",
   "metadata": {},
   "outputs": [],
   "source": [
    "selected_agg_features = pickle.load(open(\"generated_features/selected_agg_features.pickle\", \"rb\"))"
   ]
  },
  {
   "cell_type": "code",
   "execution_count": 34,
   "id": "e049ac1c",
   "metadata": {
    "scrolled": true
   },
   "outputs": [],
   "source": [
    "X = X[list(set(selected_agg_features)) + [\"contract_id\"]]"
   ]
  },
  {
   "cell_type": "code",
   "execution_count": null,
   "id": "245fad33",
   "metadata": {},
   "outputs": [],
   "source": []
  },
  {
   "cell_type": "code",
   "execution_count": 35,
   "id": "e697340e",
   "metadata": {},
   "outputs": [],
   "source": [
    "train_data = X[X[\"contract_id\"].isin(train['contract_id'])]\n",
    "test_data = X[X[\"contract_id\"].isin(test['contract_id'])]"
   ]
  },
  {
   "cell_type": "code",
   "execution_count": 36,
   "id": "0560eb27",
   "metadata": {},
   "outputs": [],
   "source": [
    "#train_data.drop(\"contract_id\", axis=1, inplace=True)\n",
    "train_data = train_data.merge(targets, left_on=\"contract_id\", right_index=True)"
   ]
  },
  {
   "cell_type": "code",
   "execution_count": 37,
   "id": "4eab4a0d",
   "metadata": {},
   "outputs": [
    {
     "name": "stderr",
     "output_type": "stream",
     "text": [
      "/var/folders/gv/p2ddb6bx55jdrygm8h7jdcf80000gn/T/ipykernel_4718/461216831.py:2: SettingWithCopyWarning: \n",
      "A value is trying to be set on a copy of a slice from a DataFrame\n",
      "\n",
      "See the caveats in the documentation: https://pandas.pydata.org/pandas-docs/stable/user_guide/indexing.html#returning-a-view-versus-a-copy\n",
      "  test_data.drop(\"contract_id\", axis=1, inplace=True)\n"
     ]
    }
   ],
   "source": [
    "train_data.drop(\"contract_id\", axis=1, inplace=True)\n",
    "test_data.drop(\"contract_id\", axis=1, inplace=True)"
   ]
  },
  {
   "cell_type": "code",
   "execution_count": 38,
   "id": "9a72f3fb",
   "metadata": {},
   "outputs": [],
   "source": [
    "X, y = train_data.drop(\"default6\", axis=1), train_data[\"default6\"]"
   ]
  },
  {
   "cell_type": "code",
   "execution_count": null,
   "id": "ac01879a",
   "metadata": {},
   "outputs": [],
   "source": []
  },
  {
   "cell_type": "code",
   "execution_count": 39,
   "id": "9e97bd87",
   "metadata": {},
   "outputs": [],
   "source": [
    "kv = StratifiedKFold(n_splits=5)"
   ]
  },
  {
   "cell_type": "code",
   "execution_count": 40,
   "id": "848f6465",
   "metadata": {
    "scrolled": true
   },
   "outputs": [
    {
     "name": "stderr",
     "output_type": "stream",
     "text": [
      "1it [00:02,  2.84s/it]"
     ]
    },
    {
     "name": "stdout",
     "output_type": "stream",
     "text": [
      "0.5340557275541795 0.3375796178343949\n"
     ]
    },
    {
     "name": "stderr",
     "output_type": "stream",
     "text": [
      "\r",
      "2it [00:05,  3.03s/it]"
     ]
    },
    {
     "name": "stdout",
     "output_type": "stream",
     "text": [
      "0.5798525798525799 0.4214046822742475\n"
     ]
    },
    {
     "name": "stderr",
     "output_type": "stream",
     "text": [
      "\r",
      "3it [00:09,  3.16s/it]"
     ]
    },
    {
     "name": "stdout",
     "output_type": "stream",
     "text": [
      "0.5870646766169154 0.3878116343490305\n"
     ]
    },
    {
     "name": "stderr",
     "output_type": "stream",
     "text": [
      "\r",
      "4it [00:14,  4.12s/it]"
     ]
    },
    {
     "name": "stdout",
     "output_type": "stream",
     "text": [
      "0.7180952380952381 0.3701492537313433\n"
     ]
    },
    {
     "name": "stderr",
     "output_type": "stream",
     "text": [
      "5it [00:16,  3.37s/it]"
     ]
    },
    {
     "name": "stdout",
     "output_type": "stream",
     "text": [
      "0.4943138741470811 0.24444444444444444\n"
     ]
    },
    {
     "name": "stderr",
     "output_type": "stream",
     "text": [
      "\n"
     ]
    }
   ],
   "source": [
    "models, scores = [], []\n",
    "y = np.array(y)\n",
    "\n",
    "for train_index, val_index in tqdm(kv.split(X, y)):\n",
    "    X_tr, X_val = X.iloc[train_index], X.iloc[val_index]\n",
    "    y_tr, y_val = y[train_index], y[val_index]\n",
    "    \n",
    "    train_pool = Pool(X_tr, y_tr)\n",
    "    valid_pool = Pool(X_val, y_val)\n",
    "    \n",
    "    clf = CatBoostClassifier(auto_class_weights=\"Balanced\", \n",
    "                             random_state=42, l2_leaf_reg=12,\n",
    "                            subsample=0.8, bagging_temperature=1).fit(train_pool, eval_set=valid_pool, \n",
    "                                                            early_stopping_rounds=50, verbose=False)\n",
    "    score = f1_score(y_val, clf.predict(valid_pool))\n",
    "    print(f1_score(y_tr, clf.predict(train_pool)), score)\n",
    "    \n",
    "    models.append(clf)\n",
    "    scores.append(score)"
   ]
  },
  {
   "cell_type": "code",
   "execution_count": 41,
   "id": "fa253fac",
   "metadata": {},
   "outputs": [
    {
     "data": {
      "text/plain": [
       "0.3522779265266921"
      ]
     },
     "execution_count": 41,
     "metadata": {},
     "output_type": "execute_result"
    }
   ],
   "source": [
    "np.mean(scores)"
   ]
  },
  {
   "cell_type": "code",
   "execution_count": null,
   "id": "f30b6cf6",
   "metadata": {},
   "outputs": [],
   "source": []
  },
  {
   "cell_type": "code",
   "execution_count": null,
   "id": "512b4b60",
   "metadata": {},
   "outputs": [],
   "source": []
  },
  {
   "cell_type": "code",
   "execution_count": 81,
   "id": "fa4ed499",
   "metadata": {},
   "outputs": [],
   "source": [
    "test_pool = Pool(test_data)"
   ]
  },
  {
   "cell_type": "code",
   "execution_count": 82,
   "id": "00c8b2f1",
   "metadata": {},
   "outputs": [],
   "source": [
    "preds = np.stack([clf.predict_proba(test_data)[:, 1] * scores[i] for i, clf in enumerate(models)]).sum(axis=0) / sum(scores)"
   ]
  },
  {
   "cell_type": "code",
   "execution_count": 83,
   "id": "0c36a8f4",
   "metadata": {},
   "outputs": [],
   "source": [
    "contr_id = test_data.index.tolist()\n",
    "\n",
    "preds = pd.DataFrame({\"contract_id\": contr_id, \"score\": preds})"
   ]
  },
  {
   "cell_type": "code",
   "execution_count": 84,
   "id": "21b78947",
   "metadata": {},
   "outputs": [
    {
     "data": {
      "text/plain": [
       "<Axes: xlabel='score', ylabel='Count'>"
      ]
     },
     "execution_count": 84,
     "metadata": {},
     "output_type": "execute_result"
    },
    {
     "data": {
      "image/png": "[encoded data removed]",
      "text/plain": [
       "<Figure size 640x480 with 1 Axes>"
      ]
     },
     "metadata": {},
     "output_type": "display_data"
    }
   ],
   "source": [
    "sns.histplot(preds[\"score\"])"
   ]
  },
  {
   "cell_type": "code",
   "execution_count": null,
   "id": "da28abc3",
   "metadata": {},
   "outputs": [],
   "source": []
  },
  {
   "cell_type": "code",
   "execution_count": 85,
   "id": "f3d42e6b",
   "metadata": {},
   "outputs": [],
   "source": [
    "sub = test[[\"contract_id\", \"report_date\"]]"
   ]
  },
  {
   "cell_type": "code",
   "execution_count": 86,
   "id": "7f87d494",
   "metadata": {},
   "outputs": [],
   "source": [
    "sub = sub.merge(preds, left_on=\"contract_id\", right_on='contract_id')"
   ]
  },
  {
   "cell_type": "code",
   "execution_count": 87,
   "id": "793fd2e5",
   "metadata": {},
   "outputs": [],
   "source": [
    "sub.to_csv('bin_clf.csv', index=False)"
   ]
  },
  {
   "cell_type": "code",
   "execution_count": null,
   "id": "902e9638",
   "metadata": {},
   "outputs": [],
   "source": []
  },
  {
   "cell_type": "code",
   "execution_count": null,
   "id": "1cf9cd26",
   "metadata": {},
   "outputs": [],
   "source": []
  },
  {
   "cell_type": "code",
   "execution_count": null,
   "id": "2a91605d",
   "metadata": {},
   "outputs": [],
   "source": []
  },
  {
   "cell_type": "code",
   "execution_count": null,
   "id": "a6e20ea0",
   "metadata": {},
   "outputs": [],
   "source": []
  },
  {
   "cell_type": "code",
   "execution_count": null,
   "id": "9ac068e3",
   "metadata": {},
   "outputs": [],
   "source": []
  }
 ],
 "metadata": {
  "kernelspec": {
   "display_name": "Python 3 (ipykernel)",
   "language": "python",
   "name": "python3"
  },
  "language_info": {
   "codemirror_mode": {
    "name": "ipython",
    "version": 3
   },
   "file_extension": ".py",
   "mimetype": "text/x-python",
   "name": "python",
   "nbconvert_exporter": "python",
   "pygments_lexer": "ipython3",
   "version": "3.9.18"
  }
 },
 "nbformat": 4,
 "nbformat_minor": 5
}
